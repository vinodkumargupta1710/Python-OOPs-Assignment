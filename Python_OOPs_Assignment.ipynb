{
  "nbformat": 4,
  "nbformat_minor": 0,
  "metadata": {
    "colab": {
      "provenance": []
    },
    "kernelspec": {
      "name": "python3",
      "display_name": "Python 3"
    },
    "language_info": {
      "name": "python"
    }
  },
  "cells": [
    {
      "cell_type": "markdown",
      "source": [
        "#Theory Questions :"
      ],
      "metadata": {
        "id": "sxHSwnejiXuE"
      }
    },
    {
      "cell_type": "markdown",
      "source": [
        "#1. What is Object Oriented Programming(OOP)?\n",
        "**Answer** : OOP is a programming method that organizes code using classes and objects. It modules real-world entities and supports concepts like inheritance, encapsulation, abstraction and polymorphism.\n",
        "\n",
        "#2. What is a class in OOP?\n",
        "**Answer** : A class is blueprint for creating objects. It defines attributes(data) and methods(function) that the object will have.\n",
        "\n",
        "#3. What is an object in OOP?\n",
        "**Answer** : An object is a real instance of a class. It stores actual data and can use the class's methods.\n",
        "\n",
        "#4. What is the difference between abstraction and encapsulation?\n",
        "**Answer** : Abstraction hides irrelevant details and shows only essential features.\n",
        "Encapsulation hides internal data using access restrictions and protects it from unauthorized access.\n",
        "\n",
        "#5. What are dunder methods in Python?\n",
        "**Answer** : Dunder(Double Underscore) methods like `__init__`, `__str__`, `__len__` etc. are special methods used to define the behavior of objects with operators and functions.\n",
        "\n",
        "#6. Explain the concept of inheritance in OOP.\n",
        "**Answer** : Inheritance lets a class(child) use the attributes and methods of another class(parent), promoting code reuse.\n",
        "\n",
        "#7. What is polymorphism in OOP?\n",
        "**Answer** : Polymorphism means many forms. it allows methods to have the same name but different behavior depending on the object calling them.\n",
        "\n",
        "#8. How is encapsulation achieved in Python?\n",
        "**Answer** : By using private variables (`__var`) and controlling access through getter and setter methods.\n",
        "\n",
        "#9. What is a constructor in python?\n",
        "**Answer** : A constructor is the `__init__()` method. It is automatically called when an object is created to initialize it.\n",
        "\n",
        "#10. What are class and static methods in Python?\n",
        "**Answer** : - Class method( @classmethod ) take cls and work with class variables.\n",
        "- Static method( @staticmethod ) don't access self or cls like normal function inside a class.\n",
        "\n",
        "#11. What is method overloading in Python?\n",
        "**Answer** : Python does not support traditional method overloading. Instead you can use default arguments or `*args` to simulate it.\n",
        "\n",
        "#12. What is method overriding in OOP?\n",
        "**Answer** : Method overriding occurs when a child class provides its own version of a method already defined in the parent class.\n",
        "\n",
        "#13. What is a property decorator in python?\n",
        "**Answer** : property decorator( `@property` ) allows a method to be accessed like an attribute, enabling read-only properties.\n",
        "\n",
        "#14. Why is polymorphism important in OOP?\n",
        "**Answer** : It makes code more flexible and reusable, allowing function to use different object types through a common interface.\n",
        "\n",
        "#15. What is an abstract class in Python?\n",
        "**Answer** : An abstract class (using ABC module) cannot be instantiated. It can have abstract methods that must be implemented by child classes.\n",
        "\n",
        "#16. What are the advantages of oop?\n",
        "**Answer** :\n",
        "**Advantages** :-\n",
        "1.   Code reuse through inheritance.\n",
        "2.   Organized and modular code.\n",
        "3.   Easier to maintain and scale\n",
        "4.   Better data security through encapsulation.\n",
        "\n",
        "#17. What is the difference between a class variable and an instance variable?\n",
        "**Answer** :\n",
        "- **Class Variable** : Shared across all objects of a class.\n",
        "- **Instance variable** : Unique to each object.\n",
        "\n",
        "#18. What is multiple inheritance in Python?\n",
        "**Answer** : When a class inherits from more than one parent class. it is called multiple inheritance.\n",
        "\n",
        "#19. Explain the purpose of `__str__` and `__repr__` methods in Python.\n",
        "**Answer** :\n",
        "- `__str__` : User-friendly string representation ( used in print() ).\n",
        "- `__repr__` : Developer - friendly representation ( used in debugging or interpreter).\n",
        "\n",
        "#20. What is the significance of the super( ) function in python?\n",
        "**Answer** : `super()` is used to call the parent class's methods in a child class, especially useful for constructors and method overriding.\n",
        "\n",
        "#21. What is the significance of the `__del__` method in python?\n",
        "**Answer** : `__del__()` is a destructor method called when an object is deleted to clean up resources.\n",
        "\n",
        "#**22**. What is the difference between `@staticmethod` and `@classmethod` in python?\n",
        "**Answer** :\n",
        "- `@staticmethod`: Does not access class or instance.\n",
        "- `@classmethod` : Takes cls and works with class-level data.\n",
        "\n",
        "#23. How does polymorphism work in python with inheritance?\n",
        "**Answer** : Chlid classes can override methods from the parent class. When called python automatically picks the right method based on the object's class.\n",
        "\n",
        "#24. What is the method chaining in Python OOP?\n",
        "**Answer** : Calling multiple methods on the same object in one line. Each method must return self.\n",
        "\n",
        "#25. What is the purpose of the `__call__` method in Python?\n",
        "**Answer** : It allows an object to be called like a function using `object_name()` syntax."
      ],
      "metadata": {
        "id": "5MgBDKhEihPI"
      }
    },
    {
      "cell_type": "markdown",
      "source": [
        "#Practical Questions :"
      ],
      "metadata": {
        "id": "3rkXJxSENVQR"
      }
    },
    {
      "cell_type": "markdown",
      "source": [
        "#1. Create a parent Animal with a method speak() that prints a generic message. create a child class Dog that overrides the speak() method to print \"Bark!\".\n"
      ],
      "metadata": {
        "id": "-olCEWx3OV9u"
      }
    },
    {
      "cell_type": "code",
      "execution_count": null,
      "metadata": {
        "id": "5z8YAbpbiQdo",
        "colab": {
          "base_uri": "https://localhost:8080/"
        },
        "outputId": "718726d6-aec6-4c73-bcc3-c52a5a7aa956"
      },
      "outputs": [
        {
          "output_type": "stream",
          "name": "stdout",
          "text": [
            "Bark!\n"
          ]
        }
      ],
      "source": [
        "class Animal:\n",
        "  def speak (self):\n",
        "    print(\"Animal makes a sound\")\n",
        "\n",
        "class Dog(Animal):\n",
        "  def speak(self):\n",
        "    print(\"Bark!\")\n",
        "\n",
        "d = Dog()\n",
        "d.speak()\n",
        "\n"
      ]
    },
    {
      "cell_type": "markdown",
      "source": [
        "#2. Create an abstract class Shape with a method area( ). Derive classes Circle and Rectangle from it and implement the area ( ) method in both."
      ],
      "metadata": {
        "id": "PYejiAVwP0EX"
      }
    },
    {
      "cell_type": "code",
      "source": [
        "from abc import ABC, abstractmethod\n",
        "class Shape(ABC):\n",
        "  @abstractmethod\n",
        "  def area(self):\n",
        "    pass\n",
        "\n",
        "class Circle(Shape):\n",
        "  def __init__(self, radius):\n",
        "    self.radius = radius\n",
        "\n",
        "  def area(self):\n",
        "    return 3.14 * self.radius * self.radius\n",
        "\n",
        "class Rectangle (Shape):\n",
        "  def __init__(self, length, width):\n",
        "    self.length = length\n",
        "    self.width = width\n",
        "\n",
        "  def area(self):\n",
        "    return self.length * self.width\n",
        "\n",
        "c = Circle(5)\n",
        "r = Rectangle(4, 6)\n",
        "print(\"Circle area:\", c.area())\n",
        "print(\"Rectangle area:\", r.area())\n"
      ],
      "metadata": {
        "colab": {
          "base_uri": "https://localhost:8080/"
        },
        "id": "U6WFCcepPtDf",
        "outputId": "bc1e5115-a487-4828-8a2a-90f6faa81d78"
      },
      "execution_count": null,
      "outputs": [
        {
          "output_type": "stream",
          "name": "stdout",
          "text": [
            "Circle area: 78.5\n",
            "Rectangle area: 24\n"
          ]
        }
      ]
    },
    {
      "cell_type": "markdown",
      "source": [
        "#3. Implement a multi-level inheritance scenario where a class Vehicle has an attribute type. Derive a class Car and further derive a class ElectricCar that adds a battery attribute."
      ],
      "metadata": {
        "id": "_753-X9ITtYn"
      }
    },
    {
      "cell_type": "code",
      "source": [
        "class Vehicle:\n",
        "  def __init__(self,type):\n",
        "    self.type = type\n",
        "\n",
        "class Car(Vehicle):\n",
        "  def __init__(self, type, brand):\n",
        "    super().__init__(type)\n",
        "    self.brand = brand\n",
        "\n",
        "class ElectricCar(Car):\n",
        "  def __init__(self, type, brand, battery):\n",
        "    super().__init__(type, brand)\n",
        "    self.battery = battery\n",
        "\n",
        "e = ElectricCar(\"Electric\", \"Tesla\",\"100 kwh\")\n",
        "print(e.type, e.brand, e.battery)"
      ],
      "metadata": {
        "colab": {
          "base_uri": "https://localhost:8080/"
        },
        "id": "HpkdVLn2SnzY",
        "outputId": "9057712d-7e55-4703-e560-f97dda7f400e"
      },
      "execution_count": null,
      "outputs": [
        {
          "output_type": "stream",
          "name": "stdout",
          "text": [
            "Electric Tesla 100 kwh\n"
          ]
        }
      ]
    },
    {
      "cell_type": "markdown",
      "source": [
        "#4. Demonstrate polymorphism by creating a base class bird with a method fly( ). Create two derived classes Sparrow and Penguin that override the fly( ) method.\n"
      ],
      "metadata": {
        "id": "q_-rPrTqVwoT"
      }
    },
    {
      "cell_type": "code",
      "source": [
        "class Bird:\n",
        "  def fly(self):\n",
        "    print(\"bird is flying\")\n",
        "\n",
        "class Sparrow(Bird):\n",
        "  def fly(self):\n",
        "    print(\"Sparrow flies in the sky\")\n",
        "\n",
        "class Penguin(Bird):\n",
        "  def fly(self):\n",
        "    print(\"Penguin cannot fly\")\n",
        "\n",
        "b1 = Sparrow()\n",
        "b1.fly()\n",
        "b2 =Penguin()\n",
        "b2.fly()"
      ],
      "metadata": {
        "colab": {
          "base_uri": "https://localhost:8080/"
        },
        "id": "_5lIInECVu68",
        "outputId": "da47cbba-46ca-4c96-faf5-7d8e32239cd7"
      },
      "execution_count": null,
      "outputs": [
        {
          "output_type": "stream",
          "name": "stdout",
          "text": [
            "Sparrow flies in the sky\n",
            "Penguin cannot fly\n"
          ]
        }
      ]
    },
    {
      "cell_type": "markdown",
      "source": [
        "#5. Demonstrate encapsulation by creating a class BankAccount with private attributes balance and methods to deposit, withdraw and check balance."
      ],
      "metadata": {
        "id": "-DGRRucgXir3"
      }
    },
    {
      "cell_type": "code",
      "source": [
        "class BankAccount:\n",
        "  def __init__(self):\n",
        "    self._balance = 0\n",
        "\n",
        "  def deposit(self, amount):\n",
        "    self._balance += amount\n",
        "\n",
        "  def withdraw(self, amount):\n",
        "    if amount <= self._balance:\n",
        "      self._balance -= amount\n",
        "    else:\n",
        "      print(\"insufficient funds\")\n",
        "\n",
        "  def check_balance(self):\n",
        "    return self._balance\n",
        "\n",
        "acc = BankAccount()\n",
        "acc.deposit(1000)\n",
        "acc.withdraw(500)\n",
        "print(\"Balance:\", acc.check_balance())"
      ],
      "metadata": {
        "colab": {
          "base_uri": "https://localhost:8080/"
        },
        "id": "Tdvkynk5XL_2",
        "outputId": "61f4de54-4d8c-423b-faf4-c0f2b7a3eb60"
      },
      "execution_count": null,
      "outputs": [
        {
          "output_type": "stream",
          "name": "stdout",
          "text": [
            "Balance: 500\n"
          ]
        }
      ]
    },
    {
      "cell_type": "markdown",
      "source": [
        "#6. Demonstrate runtime polymorphism using a method play() in a base class Instrument. Derive classes Guitar and Piano that implement their own version of play()."
      ],
      "metadata": {
        "id": "VJijcwsmZLno"
      }
    },
    {
      "cell_type": "code",
      "source": [
        "class Instrument:\n",
        "  def play(self):\n",
        "    print(\"Playing an instrument\")\n",
        "\n",
        "class Guitar(Instrument):\n",
        "  def play(self):\n",
        "    print(\"Strumming the guitar\")\n",
        "\n",
        "class Piano(Instrument):\n",
        "  def play(self):\n",
        "    print(\"Playing the piano\")\n",
        "\n",
        "guitar = Guitar()\n",
        "guitar.play()\n",
        "\n",
        "piano = Piano()\n",
        "piano.play()"
      ],
      "metadata": {
        "colab": {
          "base_uri": "https://localhost:8080/"
        },
        "id": "3jffihixZnVR",
        "outputId": "7a7cfcae-ae56-4e70-9389-e5e7a3996434"
      },
      "execution_count": null,
      "outputs": [
        {
          "output_type": "stream",
          "name": "stdout",
          "text": [
            "Strumming the guitar\n",
            "Playing the piano\n"
          ]
        }
      ]
    },
    {
      "cell_type": "markdown",
      "source": [
        "#7. Create a class MathOperations with a class method add_numbers() to add two numbers and a static method subtract_numbers() to subtract two numbers.\n"
      ],
      "metadata": {
        "id": "OU7CcR15b5AG"
      }
    },
    {
      "cell_type": "code",
      "source": [
        "class MathOperations:\n",
        "  @classmethod\n",
        "  def add_numbers(cls, a, b):\n",
        "    return a + b\n",
        "\n",
        "  @staticmethod\n",
        "  def subtract_numbers(a,b):\n",
        "    return a - b\n",
        "\n",
        "print(\"Addition:\", MathOperations.add_numbers(10, 5))\n",
        "\n",
        "print(\"Subtraction:\", MathOperations.subtract_numbers(10, 5))"
      ],
      "metadata": {
        "colab": {
          "base_uri": "https://localhost:8080/"
        },
        "id": "nqx1o4kEZKmn",
        "outputId": "6a5cb3b4-c24f-4da5-bf4b-414a484c6d28"
      },
      "execution_count": null,
      "outputs": [
        {
          "output_type": "stream",
          "name": "stdout",
          "text": [
            "Addition: 15\n",
            "Subtraction: 5\n"
          ]
        }
      ]
    },
    {
      "cell_type": "markdown",
      "source": [
        "#8. Implement a class Person with a class method to count the total number of persons created."
      ],
      "metadata": {
        "id": "_lewM3Ddee15"
      }
    },
    {
      "cell_type": "code",
      "source": [
        "class Person:\n",
        "  count = 0\n",
        "  def __init__(self, name):\n",
        "    self.name = name\n",
        "    Person.count += 1\n",
        "\n",
        "  @classmethod\n",
        "  def total_persons(cls):\n",
        "    return cls.count\n",
        "\n",
        "p1 = Person(\"Alice\")\n",
        "p2 = Person(\"Bob\")\n",
        "print(\"Total persons created: \", Person.total_persons())\n"
      ],
      "metadata": {
        "colab": {
          "base_uri": "https://localhost:8080/"
        },
        "id": "72Und6uxebvK",
        "outputId": "f1dc1616-2d88-4357-e27c-6b901e0d01ab"
      },
      "execution_count": null,
      "outputs": [
        {
          "output_type": "stream",
          "name": "stdout",
          "text": [
            "Total persons created:  2\n"
          ]
        }
      ]
    },
    {
      "cell_type": "markdown",
      "source": [],
      "metadata": {
        "id": "-itHWfQWh0PN"
      }
    },
    {
      "cell_type": "markdown",
      "source": [
        "#9. Write a class fraction with attributes numerator and denominator. Override the str method to display the fraction as \"numerator/denominator\".\n"
      ],
      "metadata": {
        "id": "E4mpUD-LhvgJ"
      }
    },
    {
      "cell_type": "code",
      "source": [
        "class fraction:\n",
        "  def __init__(self, numerator, denominator):\n",
        "    self.numerator = numerator\n",
        "    self.denominator = denominator\n",
        "\n",
        "  def __str__(self):\n",
        "    return f\"{self.numerator} / {self.denominator} \"\n",
        "\n",
        "f = fraction(3, 4)\n",
        "print(f)"
      ],
      "metadata": {
        "id": "WQlJmdD6feAz",
        "colab": {
          "base_uri": "https://localhost:8080/"
        },
        "outputId": "b5030c92-cb8b-4093-e1fb-f94734445070"
      },
      "execution_count": null,
      "outputs": [
        {
          "output_type": "stream",
          "name": "stdout",
          "text": [
            "3 / 4 \n"
          ]
        }
      ]
    },
    {
      "cell_type": "markdown",
      "source": [
        "#10. Demonstrate operator overloading by creating a class Vector and overridingthe add method to add two vectors."
      ],
      "metadata": {
        "id": "K3MVvsBVi6dJ"
      }
    },
    {
      "cell_type": "code",
      "source": [
        "class Vector:\n",
        "  def __init__(self, x, y):\n",
        "    self.x = x\n",
        "    self.y = y\n",
        "\n",
        "  def __add__(self, other):\n",
        "    return Vector(self.x + other.x, self.y + other.y)\n",
        "\n",
        "  def __str__(self):\n",
        "    return f\"Vector({self.x}, {self.y})\"\n",
        "\n",
        "v1 = Vector(2, 3)\n",
        "v2 = Vector(1, 4)\n",
        "print(v1 + v2)"
      ],
      "metadata": {
        "colab": {
          "base_uri": "https://localhost:8080/"
        },
        "id": "SvRydVJLi5Vd",
        "outputId": "6a08ba41-34b1-4b99-b5dd-3c3e2c4e9014"
      },
      "execution_count": null,
      "outputs": [
        {
          "output_type": "stream",
          "name": "stdout",
          "text": [
            "Vector(3, 7)\n"
          ]
        }
      ]
    },
    {
      "cell_type": "markdown",
      "source": [
        "#11. Create a class Person with attribute name and age. Add a method greet() that prints `\"Hello, my name is {name} and I am {age} years old.\"`\n"
      ],
      "metadata": {
        "id": "av-pPyT9kAnK"
      }
    },
    {
      "cell_type": "code",
      "source": [
        "class Person:\n",
        "  def __init__(self, name, age):\n",
        "    self.name = name\n",
        "    self.age = age\n",
        "\n",
        "  def greet(self):\n",
        "    print(f\"Hello, my name is {self.name} and I am {self.age} years old.\")\n",
        "\n",
        "p = Person(\"Vinod\", 24)\n",
        "p.greet()"
      ],
      "metadata": {
        "colab": {
          "base_uri": "https://localhost:8080/"
        },
        "id": "TKl12uF0j_vQ",
        "outputId": "92381c60-802c-4192-d919-72a0fe22bd70"
      },
      "execution_count": null,
      "outputs": [
        {
          "output_type": "stream",
          "name": "stdout",
          "text": [
            "Hello, my name is Vinod and I am 24 years old. \n"
          ]
        }
      ]
    },
    {
      "cell_type": "markdown",
      "source": [
        "#12. Implement a class Student with attributes name and grades. Create a method `average_grade()` to compute the average of the grades."
      ],
      "metadata": {
        "id": "k_wCntWAlILE"
      }
    },
    {
      "cell_type": "code",
      "source": [
        "class Student:\n",
        "  def __init__(self, name,grades):\n",
        "    self.name = name\n",
        "    self.grades = grades\n",
        "\n",
        "  def average_grade(self):\n",
        "    return sum(self.grades) / len(self.grades)\n",
        "\n",
        "s = Student(\"Ravi\", [90, 85, 80])\n",
        "print(\"Average grade:\", s.average_grade())"
      ],
      "metadata": {
        "colab": {
          "base_uri": "https://localhost:8080/"
        },
        "id": "HAkKVp24lE9Z",
        "outputId": "07e63dd1-2b90-4d95-ed5a-b44a4ae40c25"
      },
      "execution_count": null,
      "outputs": [
        {
          "output_type": "stream",
          "name": "stdout",
          "text": [
            "Average grade: 85.0\n"
          ]
        }
      ]
    },
    {
      "cell_type": "markdown",
      "source": [
        "#13. Create a class Rectangle with methods `set_dimensions()` to set the dimensions and `area()` to calculate the area."
      ],
      "metadata": {
        "id": "zdgSSFTfmn6p"
      }
    },
    {
      "cell_type": "code",
      "source": [
        "class Rectangle:\n",
        "  def set_dimensions(self, length, width):\n",
        "    self.length = length\n",
        "    self.width = width\n",
        "  def area(self):\n",
        "    return self.length * self.width\n",
        "\n",
        "r = Rectangle()\n",
        "r.set_dimensions(5, 3)\n",
        "print(\"Area of rectangle: \", r.area())"
      ],
      "metadata": {
        "colab": {
          "base_uri": "https://localhost:8080/"
        },
        "id": "VrESdlK_mmwf",
        "outputId": "bb0dba5b-3ce4-4217-b87b-762dfe0bfa9a"
      },
      "execution_count": null,
      "outputs": [
        {
          "output_type": "stream",
          "name": "stdout",
          "text": [
            "Area of rectangle:  15\n"
          ]
        }
      ]
    },
    {
      "cell_type": "markdown",
      "source": [
        "#14. Create a class Employee with a method `calculate_salary()` that computes the salary based on hours worked and hourly rate. Create a derived class Manager that adds a bonus to the salary."
      ],
      "metadata": {
        "id": "JJ25Y56drTwl"
      }
    },
    {
      "cell_type": "code",
      "source": [
        "class Employee:\n",
        "  def calculate_salary(self, hours, rate):\n",
        "    return hours * rate\n",
        "\n",
        "class Manager(Employee):\n",
        "  def calculate_salary(self, hours, rate, bonus):\n",
        "    base_salary = super().calculate_salary(hours,rate)\n",
        "\n",
        "    return base_salary + bonus\n",
        "\n",
        "e = Employee()\n",
        "print(\"Employee Salary:\", e.calculate_salary(40, 100))\n",
        "\n",
        "m = Manager()\n",
        "print(\"Manager Salary:\", m.calculate_salary(40, 100, 500))\n"
      ],
      "metadata": {
        "colab": {
          "base_uri": "https://localhost:8080/"
        },
        "id": "ojV5nOt8nzym",
        "outputId": "5df96ef4-baeb-4f0b-bdf9-f182d2b0b4fd"
      },
      "execution_count": null,
      "outputs": [
        {
          "output_type": "stream",
          "name": "stdout",
          "text": [
            "Employee Salary: 4000\n",
            "Manager Salary: 4500\n"
          ]
        }
      ]
    },
    {
      "cell_type": "markdown",
      "source": [
        "#15. Create  a class Product with attributes name, price and quentity. Implement a method `total_price()` that calculates the total price of the product."
      ],
      "metadata": {
        "id": "HADqKR1wtwQM"
      }
    },
    {
      "cell_type": "code",
      "source": [
        "class Product:\n",
        "  def __init__(self, name, price, quantity):\n",
        "    self.name = name\n",
        "    self.price = price\n",
        "    self.quantity = quantity\n",
        "\n",
        "  def total_price(self):\n",
        "    return self.price * self.quantity\n",
        "\n",
        "p = Product(\"Pen\", 10, 5)\n",
        "print(\"Total price:\", p.total_price())\n",
        "\n"
      ],
      "metadata": {
        "colab": {
          "base_uri": "https://localhost:8080/"
        },
        "id": "UyaZoNm2tu7u",
        "outputId": "35e6f4be-15cb-4fe3-8028-370666066324"
      },
      "execution_count": null,
      "outputs": [
        {
          "output_type": "stream",
          "name": "stdout",
          "text": [
            "Total price: 50\n"
          ]
        }
      ]
    },
    {
      "cell_type": "markdown",
      "source": [
        "#16. Create a class Animal with an abstract method sound(). Create two derived classes Cow and Sheep that implement the sound() method."
      ],
      "metadata": {
        "id": "ogYQX_Eivs9t"
      }
    },
    {
      "cell_type": "code",
      "source": [
        "from abc import ABC, abstractmethod\n",
        "\n",
        "class Animal(ABC):\n",
        "  @abstractmethod\n",
        "  def sound(self):\n",
        "    pass\n",
        "\n",
        "class Cow(Animal):\n",
        "  def sound(self):\n",
        "    print(\"Moo\")\n",
        "\n",
        "class Sheep(Animal):\n",
        "  def sound(self):\n",
        "    print(\"Baa\")\n",
        "\n",
        "c = Cow()\n",
        "c.sound()\n",
        "s = Sheep()\n",
        "s.sound()"
      ],
      "metadata": {
        "colab": {
          "base_uri": "https://localhost:8080/"
        },
        "id": "bzdsUwhhvrb7",
        "outputId": "6be0848f-e3f5-44d7-e5ab-b2d5a92851b9"
      },
      "execution_count": null,
      "outputs": [
        {
          "output_type": "stream",
          "name": "stdout",
          "text": [
            "Moo\n",
            "Baa\n"
          ]
        }
      ]
    },
    {
      "cell_type": "markdown",
      "source": [
        "#17. Create a class Book with attributes title, author and year_published. Add a method get_book_info() that returns a formatted string with the book's details."
      ],
      "metadata": {
        "id": "7r5EwEUay0hu"
      }
    },
    {
      "cell_type": "code",
      "source": [
        "class Book:\n",
        "  def __init__(self, title, author, year):\n",
        "    self.title = title\n",
        "    self.author = author\n",
        "    self.year = year\n",
        "\n",
        "  def get_book__info(self):\n",
        "    return f\"{self.title}, {self.author}, {self.year}\"\n",
        "\n",
        "b = Book(\"Ramayana\", \"Valmiki\", -500)\n",
        "print(b.get_book__info())\n"
      ],
      "metadata": {
        "colab": {
          "base_uri": "https://localhost:8080/"
        },
        "id": "aKjtzaNcyfxT",
        "outputId": "dee1cbda-e816-495d-82a7-fb8ef4459172"
      },
      "execution_count": null,
      "outputs": [
        {
          "output_type": "stream",
          "name": "stdout",
          "text": [
            "Ramayana, Valmiki, -500\n"
          ]
        }
      ]
    },
    {
      "cell_type": "markdown",
      "source": [
        "#18. Create a class House with attributes address and price. Create a derived class Mansion that adds an attributes number_of_rooms."
      ],
      "metadata": {
        "id": "LFDXgdkn0PVD"
      }
    },
    {
      "cell_type": "code",
      "source": [
        "class House:\n",
        "  def __init__(self, address, price):\n",
        "    self.address = address\n",
        "    self.price = price\n",
        "\n",
        "class Mansion(House):\n",
        "  def __init__(self, address, price, rooms):\n",
        "    super().__init__(address, price)\n",
        "    self.rooms = rooms\n",
        "\n",
        "m = Mansion(\"Delhi\", 10000, 10)\n",
        "print(\"Address:\", m.address)\n",
        "print(\"Price:\", m.price)\n",
        "print(\"Rooms:\", m.rooms)"
      ],
      "metadata": {
        "colab": {
          "base_uri": "https://localhost:8080/"
        },
        "id": "eRY9JDPQ0ORs",
        "outputId": "1e60257b-7b4b-4758-e863-405235f35921"
      },
      "execution_count": null,
      "outputs": [
        {
          "output_type": "stream",
          "name": "stdout",
          "text": [
            "Address: Delhi\n",
            "Price: 10000\n",
            "Rooms: 10\n"
          ]
        }
      ]
    },
    {
      "cell_type": "code",
      "source": [],
      "metadata": {
        "id": "7CnaKM_G119M"
      },
      "execution_count": null,
      "outputs": []
    }
  ]
}